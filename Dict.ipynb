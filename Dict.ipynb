{
 "cells": [
  {
   "cell_type": "code",
   "execution_count": 1,
   "metadata": {},
   "outputs": [
    {
     "name": "stdout",
     "output_type": "stream",
     "text": [
      "{4: ['q', 'w', 'r'], 5: ['e', 't']}\n"
     ]
    }
   ],
   "source": [
    "FD = {'q': 4, 'w': 4, 'e': 5, 'r': 4, 't': 5} \n",
    "SD = {} \n",
    "for i in FD: \n",
    "    if FD[i] not in SD: \n",
    "        SD[FD[i]] = [] \n",
    "    SD[FD[i]].append(i) \n",
    "print(SD)"
   ]
  }
 ],
 "metadata": {
  "kernelspec": {
   "display_name": "Python 3",
   "language": "python",
   "name": "python3"
  },
  "language_info": {
   "codemirror_mode": {
    "name": "ipython",
    "version": 3
   },
   "file_extension": ".py",
   "mimetype": "text/x-python",
   "name": "python",
   "nbconvert_exporter": "python",
   "pygments_lexer": "ipython3",
   "version": "3.7.1"
  }
 },
 "nbformat": 4,
 "nbformat_minor": 2
}
