{
 "cells": [
  {
   "cell_type": "code",
   "execution_count": 45,
   "metadata": {},
   "outputs": [],
   "source": [
    "def RtA(rom):\n",
    "    D = {'I': 1, 'V': 5, 'X': 10, 'L': 50, 'C': 100, 'D': 500, 'M': 1000, 'O': 0} \n",
    "    rom += 'O'\n",
    "    con = D[rom[0]]\n",
    "    arab = 0\n",
    "    for letter in range(len(rom)):\n",
    "        if letter == 0:\n",
    "            continue\n",
    "        if con > D[rom[letter]]:\n",
    "            arab += con\n",
    "        if con < D[rom[letter]]:\n",
    "            arab -= con\n",
    "        if con == D[rom[letter]]:\n",
    "            arab += con\n",
    "        con = D[rom[letter]]\n",
    "    return arab"
   ]
  },
  {
   "cell_type": "code",
   "execution_count": 46,
   "metadata": {},
   "outputs": [
    {
     "name": "stdout",
     "output_type": "stream",
     "text": [
      "1999\n"
     ]
    }
   ],
   "source": [
    "print (RtA('MCMXCIX'))"
   ]
  },
  {
   "cell_type": "code",
   "execution_count": 47,
   "metadata": {},
   "outputs": [
    {
     "name": "stdout",
     "output_type": "stream",
     "text": [
      "542\n"
     ]
    }
   ],
   "source": [
    "print (RtA('DXLII'))"
   ]
  }
 ],
 "metadata": {
  "kernelspec": {
   "display_name": "Python 3",
   "language": "python",
   "name": "python3"
  },
  "language_info": {
   "codemirror_mode": {
    "name": "ipython",
    "version": 3
   },
   "file_extension": ".py",
   "mimetype": "text/x-python",
   "name": "python",
   "nbconvert_exporter": "python",
   "pygments_lexer": "ipython3",
   "version": "3.7.1"
  }
 },
 "nbformat": 4,
 "nbformat_minor": 2
}
