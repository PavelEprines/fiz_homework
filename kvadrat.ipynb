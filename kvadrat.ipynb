{
 "cells": [
  {
   "cell_type": "code",
   "execution_count": 2,
   "metadata": {},
   "outputs": [
    {
     "name": "stdout",
     "output_type": "stream",
     "text": [
      "(0.0, -1e+20)\n"
     ]
    }
   ],
   "source": [
    "a = 1\n",
    "b = 10**20\n",
    "c = 1\n",
    "def f(a1, b1, c1):\n",
    "    d = (b1**2 - 4*a1*c1)**0.5\n",
    "    x1 = (-b1 + d)/2\n",
    "    x2 = (-b1 - d)/2\n",
    "    if (c1 == 0) and (x1 != 0 or x2 != 0):\n",
    "        if x1 == 0: \n",
    "            x1 = c1 / x2\n",
    "        if x2 == 0:\n",
    "            x2 = c1 / x1\n",
    "    return x1, x2\n",
    "print(f(a, b, c))\n"
   ]
  },
  {
   "cell_type": "code",
   "execution_count": null,
   "metadata": {},
   "outputs": [],
   "source": []
  }
 ],
 "metadata": {
  "kernelspec": {
   "display_name": "Python 3",
   "language": "python",
   "name": "python3"
  },
  "language_info": {
   "codemirror_mode": {
    "name": "ipython",
    "version": 3
   },
   "file_extension": ".py",
   "mimetype": "text/x-python",
   "name": "python",
   "nbconvert_exporter": "python",
   "pygments_lexer": "ipython3",
   "version": "3.6.4"
  }
 },
 "nbformat": 4,
 "nbformat_minor": 2
}
